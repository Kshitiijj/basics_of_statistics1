{
 "cells": [
  {
   "cell_type": "code",
   "execution_count": 5,
   "id": "7251145f-0db4-4fa6-8c7f-bbf68d8683a2",
   "metadata": {},
   "outputs": [
    {
     "data": {
      "text/plain": [
       "'\\nExample dataset:  \\nX = [1, 2, 3, 4, 5]  \\nY = [2, 4, 6, 8, 10]  \\n- **Covariance**: Measures how two variables change together; if positive, they move in the same direction.  \\n- **Correlation**: A standardized measure of covariance ranging from -1 to 1.  \\nHere, the correlation is 1, indicating a perfect positive linear relationship.  \\n'"
      ]
     },
     "execution_count": 5,
     "metadata": {},
     "output_type": "execute_result"
    }
   ],
   "source": [
    "# 1. Explain the different types of data (qualitative and quantitative) and provide examples of each. Discuss nominal, ordinal, interval, and ratio scales.\n",
    "\"\"\"\n",
    "Qualitative data refers to non-numeric information (e.g., colors, names, labels), while quantitative data represents numerical values (e.g., height, weight, age).  \n",
    "- **Nominal Scale**: Categorical data without a meaningful order (e.g., eye color).  \n",
    "- **Ordinal Scale**: Ordered categories but without consistent differences (e.g., rankings).  \n",
    "- **Interval Scale**: Numeric data with equal intervals but no true zero (e.g., temperature in Celsius).  \n",
    "- **Ratio Scale**: Numeric data with a true zero, allowing for meaningful ratios (e.g., weight, height).  \n",
    "\"\"\"\n",
    "\n",
    "# 2. What are the measures of central tendency, and when should you use each? Discuss the mean, median, and mode with examples and situations where each is appropriate.\n",
    "\"\"\"\n",
    "- **Mean**: The average of all values; best for symmetric distributions (e.g., average test scores).  \n",
    "- **Median**: The middle value when data is ordered; useful for skewed distributions (e.g., household income).  \n",
    "- **Mode**: The most frequently occurring value; useful for categorical data (e.g., favorite movie genre).  \n",
    "\"\"\"\n",
    "\n",
    "# 3. Explain the concept of dispersion. How do variance and standard deviation measure the spread of data?\n",
    "\"\"\"\n",
    "Dispersion measures how data points differ from the mean.  \n",
    "- **Variance**: The average squared deviation from the mean; gives a measure of data spread.  \n",
    "- **Standard Deviation**: The square root of variance; indicates how much values deviate from the mean.  \n",
    "Lower values suggest clustered data, while higher values indicate more spread.  \n",
    "\"\"\"\n",
    "\n",
    "# 4. What is a box plot, and what can it tell you about the distribution of data?\n",
    "\"\"\"\n",
    "A **box plot** visualizes the distribution of a dataset using five key statistics: minimum, first quartile, median, third quartile, and maximum.  \n",
    "It helps identify skewness, variability, and outliers in data.  \n",
    "\"\"\"\n",
    "\n",
    "# 5. Discuss the role of random sampling in making inferences about populations.\n",
    "\"\"\"\n",
    "Random sampling ensures that every individual has an equal chance of being selected, reducing bias and increasing the representativeness of a sample.  \n",
    "It helps in making reliable inferences about a larger population from a sample dataset.  \n",
    "\"\"\"\n",
    "\n",
    "# 6. Explain the concept of skewness and its types. How does skewness affect the interpretation of data?\n",
    "\"\"\"\n",
    "**Skewness** measures the asymmetry of a dataset’s distribution.  \n",
    "- **Positive Skew**: Right tail is longer, meaning higher values are more spread out (e.g., income distribution).  \n",
    "- **Negative Skew**: Left tail is longer, meaning lower values are more spread out (e.g., exam scores).  \n",
    "Skewness affects the mean and median; in a skewed distribution, the mean is pulled in the direction of the tail.  \n",
    "\"\"\"\n",
    "\n",
    "# 7. What is the interquartile range (IQR), and how is it used to detect outliers?\n",
    "\"\"\"\n",
    "The **interquartile range (IQR)** is the difference between the third quartile (Q3) and the first quartile (Q1), representing the middle 50% of data.  \n",
    "Outliers are detected if values fall below **Q1 - 1.5(IQR)** or above **Q3 + 1.5(IQR)**.  \n",
    "\"\"\"\n",
    "\n",
    "# 8. Discuss the conditions under which the binomial distribution is used.\n",
    "\"\"\"\n",
    "A **binomial distribution** is used when:  \n",
    "1. There are a fixed number of trials (n).  \n",
    "2. Each trial has only two possible outcomes (success or failure).  \n",
    "3. The probability of success (p) remains constant across trials.  \n",
    "4. The trials are independent of each other.  \n",
    "Example: Flipping a coin multiple times.  \n",
    "\"\"\"\n",
    "\n",
    "# 9. Explain the properties of the normal distribution and the empirical rule (68-95-99.7 rule).\n",
    "\"\"\"\n",
    "A **normal distribution** is a symmetric, bell-shaped curve where the mean, median, and mode are equal.  \n",
    "The **Empirical Rule** states:  \n",
    "- 68% of data falls within **1 standard deviation** from the mean.  \n",
    "- 95% falls within **2 standard deviations**.  \n",
    "- 99.7% falls within **3 standard deviations**.  \n",
    "This rule helps assess probabilities in normally distributed data.  \n",
    "\"\"\"\n",
    "\n",
    "# 10. Provide a real-life example of a Poisson process and calculate the probability for a specific event.\n",
    "\"\"\"\n",
    "A **Poisson process** models rare events occurring over time/space at a constant rate.  \n",
    "Example: The number of customer arrivals at a bank per hour.  \n",
    "Probability formula:  \n",
    "P(X = k) = (λ^k * e^(-λ)) / k!  \n",
    "Where λ is the average rate, k is the actual count, and e is Euler’s number (~2.718).  \n",
    "\"\"\"\n",
    "\n",
    "# 11. Explain what a random variable is and differentiate between discrete and continuous random variables.\n",
    "\"\"\"\n",
    "A **random variable** is a numerical outcome of a random experiment.  \n",
    "- **Discrete Random Variable**: Takes specific values (e.g., number of heads in coin toss).  \n",
    "- **Continuous Random Variable**: Takes any value within a range (e.g., height, temperature).  \n",
    "\"\"\"\n",
    "\n",
    "# 12. Provide an example dataset, calculate both covariance and correlation, and interpret the results.\n",
    "\"\"\"\n",
    "Example dataset:  \n",
    "X = [1, 2, 3, 4, 5]  \n",
    "Y = [2, 4, 6, 8, 10]  \n",
    "- **Covariance**: Measures how two variables change together; if positive, they move in the same direction.  \n",
    "- **Correlation**: A standardized measure of covariance ranging from -1 to 1.  \n",
    "Here, the correlation is 1, indicating a perfect positive linear relationship.  \n",
    "\"\"\"\n"
   ]
  },
  {
   "cell_type": "code",
   "execution_count": 7,
   "id": "84547ff4-f370-48d6-8a44-b905a3df9e50",
   "metadata": {},
   "outputs": [],
   "source": [
    "#done"
   ]
  },
  {
   "cell_type": "code",
   "execution_count": 11,
   "id": "ce703129-73e8-4331-9cfd-f962b0f9ed84",
   "metadata": {},
   "outputs": [],
   "source": [
    "x = 1"
   ]
  },
  {
   "cell_type": "code",
   "execution_count": null,
   "id": "71e0a462-6b81-4001-80b6-fadf6f3c8f28",
   "metadata": {},
   "outputs": [],
   "source": []
  },
  {
   "cell_type": "code",
   "execution_count": null,
   "id": "71108921-f023-4e08-80f0-4190717cc3c0",
   "metadata": {},
   "outputs": [],
   "source": []
  }
 ],
 "metadata": {
  "kernelspec": {
   "display_name": "Python 3 (ipykernel)",
   "language": "python",
   "name": "python3"
  },
  "language_info": {
   "codemirror_mode": {
    "name": "ipython",
    "version": 3
   },
   "file_extension": ".py",
   "mimetype": "text/x-python",
   "name": "python",
   "nbconvert_exporter": "python",
   "pygments_lexer": "ipython3",
   "version": "3.12.7"
  }
 },
 "nbformat": 4,
 "nbformat_minor": 5
}
